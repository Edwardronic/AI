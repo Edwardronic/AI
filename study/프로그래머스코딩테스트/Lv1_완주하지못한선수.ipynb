{
 "cells": [
  {
   "cell_type": "markdown",
   "id": "745a5531",
   "metadata": {},
   "source": [
    "# 코딩테스트 연습 - 완주하지 못한 선수"
   ]
  },
  {
   "cell_type": "markdown",
   "id": "998d1ff3",
   "metadata": {},
   "source": [
    "#### 문제 설명\n",
    "- 수많은 마라톤 선수들이 마라톤에 참여하였습니다. 단 한 명의 선수를 제외하고는 모든 선수가 마라톤을 완주하였습니다.<br>\n",
    "- 마라톤에 참여한 선수들의 이름이 담긴 배열 participant와 완주한 선수들의 이름이 담긴 배열 completion이 주어질 때, 완주하지 못한 선수의 이름을 return 하도록 solution 함수를 작성해주세요."
   ]
  },
  {
   "cell_type": "markdown",
   "id": "6597c827",
   "metadata": {},
   "source": [
    "#### 제한사항\n",
    "- 마라톤 경기에 참여한 선수의 수는 1명 이상 100,000명 이하입니다.\n",
    "- completion의 길이는 participant의 길이보다 1 작습니다.\n",
    "- 참가자의 이름은 1개 이상 20개 이하의 알파벳 소문자로 이루어져 있습니다.\n",
    "- 참가자 중에는 동명이인이 있을 수 있습니다."
   ]
  },
  {
   "cell_type": "markdown",
   "id": "9a2c5db5",
   "metadata": {},
   "source": [
    "#### 입출력 예\n",
    "|participant|completion|return|\n",
    "|:---|:---|:---|\n",
    "|[\"leo\", \"kiki\", \"eden\"]|[\"eden\", \"kiki\"]|**\"leo\"**|\n",
    "|[\"marina\", \"josipa\", \"nikola\", \"vinko\", \"filipa\"]|[\"josipa\", \"filipa\", \"marina\", \"nikola\"]|**\"vinko\"**|\n",
    "|[\"mislav\", \"stanko\", \"mislav\", \"ana\"]|[\"stanko\", \"ana\", \"mislav\"]|**\"mislav\"**|"
   ]
  },
  {
   "cell_type": "markdown",
   "id": "612af775",
   "metadata": {},
   "source": [
    "# 1차 시도"
   ]
  },
  {
   "cell_type": "markdown",
   "id": "eaa3c61f",
   "metadata": {},
   "source": [
    "completion 리스트의 원소를 하나씩 읽으면서 participant 리스트에서 제거했으므로 효율성 0점,,,"
   ]
  },
  {
   "cell_type": "markdown",
   "id": "e113ddef",
   "metadata": {},
   "source": [
    "채점 결과\n",
    "- 정확성 50\n",
    "- 효율성 0\n",
    "- 합계 50 / 100"
   ]
  },
  {
   "cell_type": "code",
   "execution_count": 1,
   "id": "ba522202",
   "metadata": {},
   "outputs": [],
   "source": [
    "def solution(participant, completion):\n",
    "    for c in completion:\n",
    "        participant.remove(c)\n",
    "    answer = participant[0]\n",
    "    return answer"
   ]
  },
  {
   "cell_type": "markdown",
   "id": "39e9dcbc",
   "metadata": {},
   "source": [
    "# 2차 시도"
   ]
  },
  {
   "cell_type": "markdown",
   "id": "f806c503",
   "metadata": {},
   "source": [
    "리스트를 정렬한 후 1차 시도의 방법과 동일하게 진행. 효율성이 또 0점일것이라고 생각했지만 재미삼아 시도. 효율성이 10점 늘었다."
   ]
  },
  {
   "cell_type": "markdown",
   "id": "b58d2444",
   "metadata": {},
   "source": [
    "채점 결과\n",
    "- 정확성 50\n",
    "- 효율성 10\n",
    "- 합계 60 / 100"
   ]
  },
  {
   "cell_type": "code",
   "execution_count": 2,
   "id": "431c7c9c",
   "metadata": {},
   "outputs": [],
   "source": [
    "def solution(participant, completion):\n",
    "    participant.sort()\n",
    "    completion.sort()\n",
    "    for c in completion:\n",
    "        participant.remove(c)\n",
    "    answer = participant[0]\n",
    "    return answer"
   ]
  },
  {
   "cell_type": "markdown",
   "id": "d09c8a3d",
   "metadata": {},
   "source": [
    "# 3차 시도 - 성공"
   ]
  },
  {
   "cell_type": "markdown",
   "id": "1b23af3e",
   "metadata": {},
   "source": [
    "굳이 모든 원소를 읽도록 for문을 만들 필요가 없다고 생각하였다. 그리고 participant 리스트의 원소들을 일일이 제거할 필요가 없지 않을까?"
   ]
  },
  {
   "cell_type": "markdown",
   "id": "841b6ee4",
   "metadata": {},
   "source": [
    "채점 결과\n",
    "- 정확성 50\n",
    "- 효율성 50\n",
    "- 합계 100 / 100"
   ]
  },
  {
   "cell_type": "code",
   "execution_count": 3,
   "id": "0e2094c2",
   "metadata": {},
   "outputs": [],
   "source": [
    "def solution(participant, completion):\n",
    "    participant.sort()\n",
    "    completion.sort()\n",
    "    for c in range(len(participant)):\n",
    "        if participant[c] != completion[c]:\n",
    "            return participant[c]"
   ]
  },
  {
   "cell_type": "markdown",
   "id": "55b78773",
   "metadata": {},
   "source": [
    "# 모범 답안"
   ]
  },
  {
   "cell_type": "markdown",
   "id": "a60b65d7",
   "metadata": {},
   "source": [
    "collections 모듈을 써서 두 줄만에 끝내버렸다. 이거 보고 카운터 객체 두 시간 공부했다."
   ]
  },
  {
   "cell_type": "code",
   "execution_count": 4,
   "id": "aee4c194",
   "metadata": {},
   "outputs": [],
   "source": [
    "import collections\n",
    "\n",
    "def solution(participant, completion):\n",
    "    answer = collections.Counter(participant) - collections.Counter(completion)\n",
    "    return list(answer.keys())[0]"
   ]
  },
  {
   "cell_type": "markdown",
   "id": "a6f7b8ef",
   "metadata": {},
   "source": [
    "코드를 다시 보았는데 굳이 keys() 메소드를 안해도 list에 넣어버렸더니 실행되었다. 모범답안에서 시간을 조금 더 단축시킬 수 있었다. "
   ]
  },
  {
   "cell_type": "code",
   "execution_count": 5,
   "id": "de43c6c7",
   "metadata": {},
   "outputs": [],
   "source": [
    "import collections\n",
    "\n",
    "def solution(participant, completion):\n",
    "    answer = collections.Counter(participant) - collections.Counter(completion)\n",
    "    return list(answer)[0]"
   ]
  }
 ],
 "metadata": {
  "kernelspec": {
   "display_name": "Python 3",
   "language": "python",
   "name": "python3"
  },
  "language_info": {
   "codemirror_mode": {
    "name": "ipython",
    "version": 3
   },
   "file_extension": ".py",
   "mimetype": "text/x-python",
   "name": "python",
   "nbconvert_exporter": "python",
   "pygments_lexer": "ipython3",
   "version": "3.8.5"
  }
 },
 "nbformat": 4,
 "nbformat_minor": 5
}
