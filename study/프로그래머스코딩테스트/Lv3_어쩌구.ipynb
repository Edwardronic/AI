{
 "cells": [
  {
   "cell_type": "markdown",
   "id": "745a5531",
   "metadata": {},
   "source": [
    "# 코딩테스트 연습 - 위장"
   ]
  },
  {
   "cell_type": "markdown",
   "id": "998d1ff3",
   "metadata": {},
   "source": [
    "#### 문제 설명\n",
    "- 스파이들은 매일 다른 옷을 조합하여 입어 자신을 위장합니다.\n",
    "- 예를 들어 스파이가 가진 옷이 아래와 같고 오늘 스파이가 동그란 안경, 긴 코트, 파란색 티셔츠를 입었다면 다음날은 청바지를 추가로 입거나 동그란 안경 대신 검정 선글라스를 착용하거나 해야 합니다.\n",
    "|종류|이름|\n",
    "|:---|:---|\n",
    "|얼굴|동그란 안경, 검정 선글라스|\n",
    "|상의|파란색 티셔츠|\n",
    "|하의|청바지|\n",
    "|겉옷|긴 코트|\n",
    "- 스파이가 가진 의상들이 담긴 2차원 배열 clothes가 주어질 때 서로 다른 옷의 조합의 수를 return 하도록 solution 함수를 작성해주세요."
   ]
  },
  {
   "cell_type": "markdown",
   "id": "6597c827",
   "metadata": {},
   "source": [
    "#### 제한사항\n",
    "- clothes의 각 행은 [의상의 이름, 의상의 종류]로 이루어져 있습니다.\n",
    "- 스파이가 가진 의상의 수는 1개 이상 30개 이하입니다.\n",
    "- 같은 이름을 가진 의상은 존재하지 않습니다.\n",
    "- clothes의 모든 원소는 문자열로 이루어져 있습니다.\n",
    "- 모든 문자열의 길이는 1 이상 20 이하인 자연수이고 알파벳 소문자 또는 '_' 로만 이루어져 있습니다.\n",
    "- 스파이는 하루에 최소 한 개의 의상은 입습니다."
   ]
  },
  {
   "cell_type": "markdown",
   "id": "9a2c5db5",
   "metadata": {},
   "source": [
    "#### 입출력 예\n",
    "|clothes|return|\n",
    "|:---|:---|\n",
    "|[[\"yellowhat\", \"headgear\"], [\"bluesunglasses\", \"eyewear\"], [\"green_turban\", \"headgear\"]]|5|\n",
    "|[[\"crowmask\", \"face\"], [\"bluesunglasses\", \"face\"], [\"smoky_makeup\", \"face\"]]|3|"
   ]
  },
  {
   "cell_type": "markdown",
   "id": "612af775",
   "metadata": {},
   "source": [
    "# 1차 시도"
   ]
  },
  {
   "cell_type": "markdown",
   "id": "eaa3c61f",
   "metadata": {},
   "source": [
    "규칙을 찾으려고 시도하였다. 다양한 예를 들어 경우의 수를 계산하여보니 일정한 규칙이 보였다. 의상의 종류가 1개일 때, 2개일 때, 3개일 때 ...\n",
    "성공할 줄 알았는데 테스트28개 중 1개가 시간 초과다. 분명 틀릴리 없는데 오류인가 의심되었다."
   ]
  },
  {
   "cell_type": "markdown",
   "id": "e113ddef",
   "metadata": {},
   "source": [
    "채점 결과\n",
    "- 정확성 96.4\n",
    "- 합계 96.4 / 100"
   ]
  },
  {
   "cell_type": "code",
   "execution_count": 1,
   "id": "3aec3239",
   "metadata": {},
   "outputs": [],
   "source": [
    "from itertools import combinations\n",
    "import numpy as np\n",
    "def solution(clothes):\n",
    "    c = {}\n",
    "    for i in clothes:\n",
    "        if i[1] not in c:\n",
    "            c[i[1]] = 1\n",
    "        else:\n",
    "            c[i[1]] += 1\n",
    "    p = list(c.values())\n",
    "    b = 0\n",
    "    for i in range(len(p)):\n",
    "        b += np.prod(list(combinations(p, i+1)), axis=1).sum()\n",
    "    return b.item()"
   ]
  },
  {
   "cell_type": "markdown",
   "id": "39e9dcbc",
   "metadata": {},
   "source": [
    "# 2차 시도 - 성공"
   ]
  },
  {
   "cell_type": "markdown",
   "id": "f806c503",
   "metadata": {},
   "source": [
    "해당 종류의 옷을 안입을 경우를 고려하면 굳이 조합을 쓸 필요가 없다. (마지막에 -1을 하여서 모두 안입는 확률을 제거하였다)"
   ]
  },
  {
   "cell_type": "markdown",
   "id": "b9c8e409",
   "metadata": {},
   "source": [
    "채점 결과\n",
    "- 정확성 100\n",
    "- 합계 100 / 100"
   ]
  },
  {
   "cell_type": "code",
   "execution_count": 2,
   "id": "1fb941db",
   "metadata": {},
   "outputs": [],
   "source": [
    "def solution(clothes):\n",
    "    c = {}\n",
    "    for i in clothes:\n",
    "        if i[1] not in c:\n",
    "            c[i[1]] = 1\n",
    "        else:\n",
    "            c[i[1]] += 1\n",
    "    p = list(c.values())\n",
    "    return ((np.prod(np.array(p)+1))-1).item()"
   ]
  },
  {
   "cell_type": "markdown",
   "id": "55b78773",
   "metadata": {},
   "source": [
    "# 모범 답안"
   ]
  },
  {
   "cell_type": "markdown",
   "id": "a60b65d7",
   "metadata": {},
   "source": [
    "collections 모듈을 써서 나와 비슷한 풀이를 하였다."
   ]
  },
  {
   "cell_type": "code",
   "execution_count": 3,
   "id": "aee4c194",
   "metadata": {},
   "outputs": [],
   "source": [
    "def solution(clothes):\n",
    "    from collections import Counter\n",
    "    from functools import reduce\n",
    "    cnt = Counter([kind for name, kind in clothes])\n",
    "    answer = reduce(lambda x, y: x*(y+1), cnt.values(), 1) - 1\n",
    "    return answer"
   ]
  }
 ],
 "metadata": {
  "kernelspec": {
   "display_name": "Python 3",
   "language": "python",
   "name": "python3"
  },
  "language_info": {
   "codemirror_mode": {
    "name": "ipython",
    "version": 3
   },
   "file_extension": ".py",
   "mimetype": "text/x-python",
   "name": "python",
   "nbconvert_exporter": "python",
   "pygments_lexer": "ipython3",
   "version": "3.8.5"
  }
 },
 "nbformat": 4,
 "nbformat_minor": 5
}
