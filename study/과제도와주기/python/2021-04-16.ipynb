{
 "cells": [
  {
   "cell_type": "markdown",
   "metadata": {},
   "source": [
    "# 과제도와주기 프로젝트 9번째"
   ]
  },
  {
   "cell_type": "markdown",
   "metadata": {},
   "source": [
    "- 요청 : 서울여대 학생<br>\n",
    "- 일시 : 2021-04-16\n",
    "- 과목 : 공학도를위한창의적컴퓨팅<br>\n",
    "- 언어 : python"
   ]
  },
  {
   "cell_type": "markdown",
   "metadata": {},
   "source": [
    "# 실습 과제 1"
   ]
  },
  {
   "cell_type": "markdown",
   "metadata": {},
   "source": [
    "<img src='https://raw.githubusercontent.com/SunwoongShin/storage/master/study/과제도와주기/python/src/2021-04-15-1.png' style='float:left; width:600px;'>"
   ]
  },
  {
   "cell_type": "code",
   "execution_count": 57,
   "metadata": {},
   "outputs": [
    {
     "ename": "KeyboardInterrupt",
     "evalue": "Interrupted by user",
     "output_type": "error",
     "traceback": [
      "\u001b[0;31m---------------------------------------------------------------------------\u001b[0m",
      "\u001b[0;31mKeyboardInterrupt\u001b[0m                         Traceback (most recent call last)",
      "\u001b[0;32m<ipython-input-57-36e7b458f341>\u001b[0m in \u001b[0;36m<module>\u001b[0;34m\u001b[0m\n\u001b[1;32m      3\u001b[0m \u001b[0mdictionary\u001b[0m \u001b[0;34m=\u001b[0m \u001b[0;34m{\u001b[0m\u001b[0;34m'apple'\u001b[0m\u001b[0;34m:\u001b[0m\u001b[0;34m'사과'\u001b[0m\u001b[0;34m,\u001b[0m \u001b[0;34m'bed'\u001b[0m\u001b[0;34m:\u001b[0m\u001b[0;34m'침대'\u001b[0m\u001b[0;34m,\u001b[0m \u001b[0;34m'clock'\u001b[0m\u001b[0;34m:\u001b[0m\u001b[0;34m'시계'\u001b[0m\u001b[0;34m,\u001b[0m \u001b[0;34m'cat'\u001b[0m\u001b[0;34m:\u001b[0m\u001b[0;34m'고양이'\u001b[0m\u001b[0;34m,\u001b[0m \u001b[0;34m'dog'\u001b[0m\u001b[0;34m:\u001b[0m\u001b[0;34m'개'\u001b[0m\u001b[0;34m}\u001b[0m\u001b[0;34m\u001b[0m\u001b[0;34m\u001b[0m\u001b[0m\n\u001b[1;32m      4\u001b[0m \u001b[0;34m\u001b[0m\u001b[0m\n\u001b[0;32m----> 5\u001b[0;31m \u001b[0mappend\u001b[0m \u001b[0;34m=\u001b[0m \u001b[0mstr\u001b[0m\u001b[0;34m(\u001b[0m\u001b[0minput\u001b[0m\u001b[0;34m(\u001b[0m\u001b[0;34m'단어를 추가하시겠습니까? (네 or 아니오) :'\u001b[0m\u001b[0;34m)\u001b[0m\u001b[0;34m)\u001b[0m\u001b[0;34m\u001b[0m\u001b[0;34m\u001b[0m\u001b[0m\n\u001b[0m\u001b[1;32m      6\u001b[0m \u001b[0;32mif\u001b[0m \u001b[0mappend\u001b[0m\u001b[0;34m==\u001b[0m\u001b[0;34m'네'\u001b[0m\u001b[0;34m:\u001b[0m\u001b[0;34m\u001b[0m\u001b[0;34m\u001b[0m\u001b[0m\n\u001b[1;32m      7\u001b[0m     \u001b[0menglish_append\u001b[0m \u001b[0;34m=\u001b[0m \u001b[0mstr\u001b[0m\u001b[0;34m(\u001b[0m\u001b[0minput\u001b[0m\u001b[0;34m(\u001b[0m\u001b[0;34m'영어 단어를 추가하세요 :'\u001b[0m\u001b[0;34m)\u001b[0m\u001b[0;34m)\u001b[0m\u001b[0;34m\u001b[0m\u001b[0;34m\u001b[0m\u001b[0m\n",
      "\u001b[0;32m~/opt/anaconda3/lib/python3.8/site-packages/ipykernel/kernelbase.py\u001b[0m in \u001b[0;36mraw_input\u001b[0;34m(self, prompt)\u001b[0m\n\u001b[1;32m    858\u001b[0m                 \u001b[0;34m\"raw_input was called, but this frontend does not support input requests.\"\u001b[0m\u001b[0;34m\u001b[0m\u001b[0;34m\u001b[0m\u001b[0m\n\u001b[1;32m    859\u001b[0m             )\n\u001b[0;32m--> 860\u001b[0;31m         return self._input_request(str(prompt),\n\u001b[0m\u001b[1;32m    861\u001b[0m             \u001b[0mself\u001b[0m\u001b[0;34m.\u001b[0m\u001b[0m_parent_ident\u001b[0m\u001b[0;34m,\u001b[0m\u001b[0;34m\u001b[0m\u001b[0;34m\u001b[0m\u001b[0m\n\u001b[1;32m    862\u001b[0m             \u001b[0mself\u001b[0m\u001b[0;34m.\u001b[0m\u001b[0m_parent_header\u001b[0m\u001b[0;34m,\u001b[0m\u001b[0;34m\u001b[0m\u001b[0;34m\u001b[0m\u001b[0m\n",
      "\u001b[0;32m~/opt/anaconda3/lib/python3.8/site-packages/ipykernel/kernelbase.py\u001b[0m in \u001b[0;36m_input_request\u001b[0;34m(self, prompt, ident, parent, password)\u001b[0m\n\u001b[1;32m    902\u001b[0m             \u001b[0;32mexcept\u001b[0m \u001b[0mKeyboardInterrupt\u001b[0m\u001b[0;34m:\u001b[0m\u001b[0;34m\u001b[0m\u001b[0;34m\u001b[0m\u001b[0m\n\u001b[1;32m    903\u001b[0m                 \u001b[0;31m# re-raise KeyboardInterrupt, to truncate traceback\u001b[0m\u001b[0;34m\u001b[0m\u001b[0;34m\u001b[0m\u001b[0;34m\u001b[0m\u001b[0m\n\u001b[0;32m--> 904\u001b[0;31m                 \u001b[0;32mraise\u001b[0m \u001b[0mKeyboardInterrupt\u001b[0m\u001b[0;34m(\u001b[0m\u001b[0;34m\"Interrupted by user\"\u001b[0m\u001b[0;34m)\u001b[0m \u001b[0;32mfrom\u001b[0m \u001b[0;32mNone\u001b[0m\u001b[0;34m\u001b[0m\u001b[0;34m\u001b[0m\u001b[0m\n\u001b[0m\u001b[1;32m    905\u001b[0m             \u001b[0;32mexcept\u001b[0m \u001b[0mException\u001b[0m \u001b[0;32mas\u001b[0m \u001b[0me\u001b[0m\u001b[0;34m:\u001b[0m\u001b[0;34m\u001b[0m\u001b[0;34m\u001b[0m\u001b[0m\n\u001b[1;32m    906\u001b[0m                 \u001b[0mself\u001b[0m\u001b[0;34m.\u001b[0m\u001b[0mlog\u001b[0m\u001b[0;34m.\u001b[0m\u001b[0mwarning\u001b[0m\u001b[0;34m(\u001b[0m\u001b[0;34m\"Invalid Message:\"\u001b[0m\u001b[0;34m,\u001b[0m \u001b[0mexc_info\u001b[0m\u001b[0;34m=\u001b[0m\u001b[0;32mTrue\u001b[0m\u001b[0;34m)\u001b[0m\u001b[0;34m\u001b[0m\u001b[0;34m\u001b[0m\u001b[0m\n",
      "\u001b[0;31mKeyboardInterrupt\u001b[0m: Interrupted by user"
     ]
    }
   ],
   "source": [
    "import random\n",
    "menus = [(1, '영어 -> 한글'), (2, '한글 -> 영어'), (3, '종료')]\n",
    "dictionary = {'apple':'사과', 'bed':'침대', 'clock':'시계', 'cat':'고양이', 'dog':'개'}\n",
    "\n",
    "append = str(input('단어를 추가하시겠습니까? (네 or 아니오) :'))\n",
    "if append=='네':\n",
    "    english_append = str(input('영어 단어를 추가하세요 :'))\n",
    "    hangul_append = str(input('한글 단어를 추가하세요 :'))\n",
    "else:\n",
    "    pass\n",
    "dictionary[english_append]=hangul_append\n",
    "\n",
    "number = len(dictionary)\n",
    "while True:\n",
    "    if len(dictionary)==0:\n",
    "        print('Clear!')\n",
    "        break\n",
    "    for i, n in menus:\n",
    "        print(i, n)\n",
    "    c = int(input())\n",
    "    if c == 1:\n",
    "        n = random.randrange(number)\n",
    "        eng_word = english_list[n]\n",
    "        kor_word = hangul_list[n]\n",
    "        print('영어', eng_word, '의 뜻?')\n",
    "        kor_word = input()\n",
    "        if kor_word == hangul_list[n]:\n",
    "            print('네, 맞았어요, 영어', eng_word, '의 뜻은 한글로', kor_word, '입니다')\n",
    "            english_list.remove(eng_word)\n",
    "            hangul_list.remove(kor_word)\n",
    "            print('남은 단어의 숫자 :', len(english_list))\n",
    "            number -= 1\n",
    "        else:\n",
    "            print('틀렸습니다')\n",
    "    elif c == 2:\n",
    "        n = random.randrange(number)\n",
    "        eng_word = english_list[n]\n",
    "        kor_word = hangul_list[n]\n",
    "        print(kor_word, '은 영어로 무엇?')\n",
    "        eng_word = input()\n",
    "        if eng_word == english_list[n]:\n",
    "            print('네, 맞았어요, 한글', kor_word, '의 뜻은 영어로', eng_word, '입니다')\n",
    "            english_list.remove(eng_word)\n",
    "            hangul_list.remove(kor_word)\n",
    "            print('남은 단어의 숫자 :', len(hangul_list))\n",
    "            number -= 1\n",
    "        else:\n",
    "            print('틀렸습니다')\n",
    "    elif c == 3:\n",
    "        break"
   ]
  },
  {
   "cell_type": "code",
   "execution_count": 42,
   "metadata": {},
   "outputs": [
    {
     "name": "stdout",
     "output_type": "stream",
     "text": [
      "단어를 추가하시겠습니까? (네 or 아니오) :네\n",
      "영어 단어를 추가하세요 :grapes\n",
      "한글 단어를 추가하세요 :포도\n",
      "1 영어 -> 한글\n",
      "2 한글 -> 영어\n",
      "3 종료\n",
      "2\n",
      "고양이 은 영어로 무엇?\n",
      "cat\n",
      "네, 맞았어요, 한글 고양이 의 뜻은 영어로 cat 입니다\n",
      "남은 단어의 숫자 : 5\n",
      "1 영어 -> 한글\n",
      "2 한글 -> 영어\n",
      "3 종료\n",
      "2\n",
      "사과 은 영어로 무엇?\n",
      "apple\n",
      "네, 맞았어요, 한글 사과 의 뜻은 영어로 apple 입니다\n",
      "남은 단어의 숫자 : 4\n",
      "1 영어 -> 한글\n",
      "2 한글 -> 영어\n",
      "3 종료\n",
      "2\n",
      "포도 은 영어로 무엇?\n",
      "grapes\n",
      "네, 맞았어요, 한글 포도 의 뜻은 영어로 grapes 입니다\n",
      "남은 단어의 숫자 : 3\n",
      "1 영어 -> 한글\n",
      "2 한글 -> 영어\n",
      "3 종료\n",
      "2\n",
      "시계 은 영어로 무엇?\n",
      "clock\n",
      "네, 맞았어요, 한글 시계 의 뜻은 영어로 clock 입니다\n",
      "남은 단어의 숫자 : 2\n",
      "1 영어 -> 한글\n",
      "2 한글 -> 영어\n",
      "3 종료\n",
      "2\n",
      "개 은 영어로 무엇?\n",
      "dog\n",
      "네, 맞았어요, 한글 개 의 뜻은 영어로 dog 입니다\n",
      "남은 단어의 숫자 : 1\n",
      "1 영어 -> 한글\n",
      "2 한글 -> 영어\n",
      "3 종료\n",
      "\n"
     ]
    },
    {
     "ename": "ValueError",
     "evalue": "invalid literal for int() with base 10: ''",
     "output_type": "error",
     "traceback": [
      "\u001b[0;31m---------------------------------------------------------------------------\u001b[0m",
      "\u001b[0;31mValueError\u001b[0m                                Traceback (most recent call last)",
      "\u001b[0;32m<ipython-input-42-e2f80a05c3e5>\u001b[0m in \u001b[0;36m<module>\u001b[0;34m\u001b[0m\n\u001b[1;32m     20\u001b[0m     \u001b[0;32mfor\u001b[0m \u001b[0mi\u001b[0m\u001b[0;34m,\u001b[0m \u001b[0mn\u001b[0m \u001b[0;32min\u001b[0m \u001b[0mmenus\u001b[0m\u001b[0;34m:\u001b[0m\u001b[0;34m\u001b[0m\u001b[0;34m\u001b[0m\u001b[0m\n\u001b[1;32m     21\u001b[0m         \u001b[0mprint\u001b[0m\u001b[0;34m(\u001b[0m\u001b[0mi\u001b[0m\u001b[0;34m,\u001b[0m \u001b[0mn\u001b[0m\u001b[0;34m)\u001b[0m\u001b[0;34m\u001b[0m\u001b[0;34m\u001b[0m\u001b[0m\n\u001b[0;32m---> 22\u001b[0;31m     \u001b[0mc\u001b[0m \u001b[0;34m=\u001b[0m \u001b[0mint\u001b[0m\u001b[0;34m(\u001b[0m\u001b[0minput\u001b[0m\u001b[0;34m(\u001b[0m\u001b[0;34m)\u001b[0m\u001b[0;34m)\u001b[0m\u001b[0;34m\u001b[0m\u001b[0;34m\u001b[0m\u001b[0m\n\u001b[0m\u001b[1;32m     23\u001b[0m     \u001b[0;32mif\u001b[0m \u001b[0mc\u001b[0m \u001b[0;34m==\u001b[0m \u001b[0;36m1\u001b[0m\u001b[0;34m:\u001b[0m\u001b[0;34m\u001b[0m\u001b[0;34m\u001b[0m\u001b[0m\n\u001b[1;32m     24\u001b[0m         \u001b[0mn\u001b[0m \u001b[0;34m=\u001b[0m \u001b[0mrandom\u001b[0m\u001b[0;34m.\u001b[0m\u001b[0mrandrange\u001b[0m\u001b[0;34m(\u001b[0m\u001b[0mnumber\u001b[0m\u001b[0;34m)\u001b[0m\u001b[0;34m\u001b[0m\u001b[0;34m\u001b[0m\u001b[0m\n",
      "\u001b[0;31mValueError\u001b[0m: invalid literal for int() with base 10: ''"
     ]
    }
   ],
   "source": [
    "import random\n",
    "menus = [(1, '영어 -> 한글'), (2, '한글 -> 영어'), (3, '종료')]\n",
    "english_dict = ['apple', 'bed', 'clock', 'cat', 'dog']\n",
    "hangul_list = ['사과', '침대', '시계', '고양이', '개']\n",
    "\n",
    "append = str(input('단어를 추가하시겠습니까? (네 or 아니오) :'))\n",
    "if append=='네':\n",
    "    english_append = str(input('영어 단어를 추가하세요 :'))\n",
    "    hangul_append = str(input('한글 단어를 추가하세요 :'))\n",
    "else:\n",
    "    pass\n",
    "english_list.append(english_append)\n",
    "hangul_list.append(hangul_append)\n",
    "\n",
    "number = len(english_list)\n",
    "while True:\n",
    "    if len(english_list)==0:\n",
    "        print('Clear!')\n",
    "        break\n",
    "    for i, n in menus:\n",
    "        print(i, n)\n",
    "    c = int(input())\n",
    "    if c == 1:\n",
    "        n = random.randrange(number)\n",
    "        eng_word = english_list[n]\n",
    "        kor_word = hangul_list[n]\n",
    "        print('영어', eng_word, '의 뜻?')\n",
    "        kor_word = input()\n",
    "        if kor_word == hangul_list[n]:\n",
    "            print('네, 맞았어요, 영어', eng_word, '의 뜻은 한글로', kor_word, '입니다')\n",
    "            english_list.remove(eng_word)\n",
    "            hangul_list.remove(kor_word)\n",
    "            print('남은 단어의 숫자 :', len(english_list))\n",
    "            number -= 1\n",
    "        else:\n",
    "            print('틀렸습니다')\n",
    "    elif c == 2:\n",
    "        n = random.randrange(number)\n",
    "        eng_word = english_list[n]\n",
    "        kor_word = hangul_list[n]\n",
    "        print(kor_word, '은 영어로 무엇?')\n",
    "        eng_word = input()\n",
    "        if eng_word == english_list[n]:\n",
    "            print('네, 맞았어요, 한글', kor_word, '의 뜻은 영어로', eng_word, '입니다')\n",
    "            english_list.remove(eng_word)\n",
    "            hangul_list.remove(kor_word)\n",
    "            print('남은 단어의 숫자 :', len(hangul_list))\n",
    "            number -= 1\n",
    "        else:\n",
    "            print('틀렸습니다')\n",
    "    elif c == 3:\n",
    "        break"
   ]
  }
 ],
 "metadata": {
  "kernelspec": {
   "display_name": "Python 3",
   "language": "python",
   "name": "python3"
  },
  "language_info": {
   "codemirror_mode": {
    "name": "ipython",
    "version": 3
   },
   "file_extension": ".py",
   "mimetype": "text/x-python",
   "name": "python",
   "nbconvert_exporter": "python",
   "pygments_lexer": "ipython3",
   "version": "3.8.5"
  }
 },
 "nbformat": 4,
 "nbformat_minor": 4
}
