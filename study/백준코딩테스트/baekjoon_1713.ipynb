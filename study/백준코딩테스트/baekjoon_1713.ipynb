{
 "cells": [
  {
   "cell_type": "code",
   "execution_count": 1,
   "metadata": {},
   "outputs": [
    {
     "name": "stdout",
     "output_type": "stream",
     "text": [
      "3\n",
      "9\n"
     ]
    }
   ],
   "source": [
    "n = int(input())\n",
    "num = int(input())"
   ]
  },
  {
   "cell_type": "code",
   "execution_count": 2,
   "metadata": {},
   "outputs": [],
   "source": [
    "def is_in_arr(arr, w):\n",
    "    for i in arr:\n",
    "        if i[2] == w:\n",
    "            return True\n",
    "    return False"
   ]
  },
  {
   "cell_type": "markdown",
   "metadata": {},
   "source": [
    "2 1 4 3 5 6 2 7 2"
   ]
  },
  {
   "cell_type": "code",
   "execution_count": 3,
   "metadata": {},
   "outputs": [
    {
     "name": "stdout",
     "output_type": "stream",
     "text": [
      "2 1 4 3 5 6 2 7 2\n"
     ]
    }
   ],
   "source": [
    "arr = []\n",
    "who = input().split()"
   ]
  },
  {
   "cell_type": "code",
   "execution_count": 9,
   "metadata": {},
   "outputs": [],
   "source": [
    "arr = []"
   ]
  },
  {
   "cell_type": "code",
   "execution_count": 10,
   "metadata": {},
   "outputs": [
    {
     "name": "stdout",
     "output_type": "stream",
     "text": [
      "[[1, 0, '2']]\n",
      "[[1, 0, '2']] \n",
      "\n",
      "[[1, 0, '2'], [1, 1, '1']]\n",
      "[[1, 0, '2'], [1, 1, '1']] \n",
      "\n",
      "[[1, 0, '2'], [1, 1, '1'], [1, 2, '4']]\n",
      "[[1, 0, '2'], [1, 1, '1'], [1, 2, '4']] \n",
      "\n",
      "[[1, 3, '3'], [1, 1, '1'], [1, 2, '4']]\n",
      "[[1, 1, '1'], [1, 2, '4'], [1, 3, '3']] \n",
      "\n",
      "[[1, 4, '5'], [1, 2, '4'], [1, 3, '3']]\n",
      "[[1, 2, '4'], [1, 3, '3'], [1, 4, '5']] \n",
      "\n",
      "[[1, 5, '6'], [1, 3, '3'], [1, 4, '5']]\n",
      "[[1, 3, '3'], [1, 4, '5'], [1, 5, '6']] \n",
      "\n",
      "[[1, 6, '2'], [1, 4, '5'], [1, 5, '6']]\n",
      "[[1, 4, '5'], [1, 5, '6'], [1, 6, '2']] \n",
      "\n",
      "[[1, 7, '7'], [1, 5, '6'], [1, 6, '2']]\n",
      "[[1, 5, '6'], [1, 6, '2'], [1, 7, '7']] \n",
      "\n",
      "[[1, 5, '6'], [2, 6, '2'], [1, 7, '7']]\n",
      "[[1, 5, '6'], [2, 6, '2'], [1, 7, '7']]\n",
      "[[1, 5, '6'], [1, 7, '7'], [2, 6, '2']] \n",
      "\n",
      "2 6 7\n"
     ]
    }
   ],
   "source": [
    "for idx, w in enumerate(who):\n",
    "    if is_in_arr(arr,w):\n",
    "        for index, var in enumerate(arr):\n",
    "            if var[2] == w:\n",
    "                arr[index][0]+=1\n",
    "                print(arr)\n",
    "                break\n",
    "    else:\n",
    "        if len(arr) < n:\n",
    "            arr.append([1, idx, w])\n",
    "        else:\n",
    "            arr[0] = [1, idx, w]\n",
    "    print(arr)\n",
    "    arr.sort(key=lambda x: (x[0], x[1]))\n",
    "    print(arr, '\\n')\n",
    "arr.sort(key=lambda x:int(x[2]))\n",
    "for i in range(n):\n",
    "    if i == n-1:\n",
    "        print(arr[i][2])\n",
    "    else:\n",
    "        print(arr[i][2], end=' ')"
   ]
  },
  {
   "cell_type": "code",
   "execution_count": 5,
   "metadata": {},
   "outputs": [
    {
     "data": {
      "text/plain": [
       "[[2, 6, '2'], [1, 5, '6'], [1, 7, '7']]"
      ]
     },
     "execution_count": 5,
     "metadata": {},
     "output_type": "execute_result"
    }
   ],
   "source": [
    "arr"
   ]
  },
  {
   "cell_type": "code",
   "execution_count": null,
   "metadata": {},
   "outputs": [],
   "source": [
    "pp = []"
   ]
  },
  {
   "cell_type": "code",
   "execution_count": null,
   "metadata": {},
   "outputs": [],
   "source": [
    "pp[0][0]+=1"
   ]
  },
  {
   "cell_type": "code",
   "execution_count": 24,
   "metadata": {},
   "outputs": [
    {
     "data": {
      "text/plain": [
       "[[2, 6, '2'], [1, 5, '6'], [1, 7, '7']]"
      ]
     },
     "execution_count": 24,
     "metadata": {},
     "output_type": "execute_result"
    }
   ],
   "source": [
    "arr"
   ]
  },
  {
   "cell_type": "code",
   "execution_count": null,
   "metadata": {},
   "outputs": [],
   "source": []
  }
 ],
 "metadata": {
  "kernelspec": {
   "display_name": "Python 3",
   "language": "python",
   "name": "python3"
  },
  "language_info": {
   "codemirror_mode": {
    "name": "ipython",
    "version": 3
   },
   "file_extension": ".py",
   "mimetype": "text/x-python",
   "name": "python",
   "nbconvert_exporter": "python",
   "pygments_lexer": "ipython3",
   "version": "3.8.5"
  }
 },
 "nbformat": 4,
 "nbformat_minor": 4
}
