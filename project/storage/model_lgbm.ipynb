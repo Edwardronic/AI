{
 "cells": [
  {
   "cell_type": "code",
   "execution_count": 14,
   "metadata": {},
   "outputs": [],
   "source": [
    "import sys\n",
    "import os\n",
    "import numpy as np\n",
    "import pandas as pd\n",
    "from tqdm.auto import tqdm\n",
    "from time import sleep\n",
    "from sklearn import preprocessing\n",
    "#naive bayes classifier\n",
    "from sklearn.naive_bayes import GaussianNB\n",
    "from sklearn import svm\n",
    "from sklearn import datasets  \n",
    "from sklearn.model_selection import train_test_split\n",
    "from sklearn import metrics\n",
    "import matplotlib.pyplot as plt\n",
    "%matplotlib inline\n",
    "import matplotlib.font_manager as fm"
   ]
  },
  {
   "cell_type": "code",
   "execution_count": 15,
   "metadata": {},
   "outputs": [
    {
     "data": {
      "text/plain": [
       "LGBMClassifier()"
      ]
     },
     "execution_count": 15,
     "metadata": {},
     "output_type": "execute_result"
    }
   ],
   "source": [
    "import lightgbm as lgb\n",
    "lgb.LGBMClassifier()"
   ]
  },
  {
   "cell_type": "code",
   "execution_count": 16,
   "metadata": {},
   "outputs": [],
   "source": [
    "from sklearn.datasets import make_classification"
   ]
  },
  {
   "cell_type": "code",
   "execution_count": 122,
   "metadata": {},
   "outputs": [],
   "source": [
    "num_features = 2\n",
    "num_info = 2"
   ]
  },
  {
   "cell_type": "code",
   "execution_count": 216,
   "metadata": {},
   "outputs": [],
   "source": [
    "X, y = make_classification(n_samples = 500, n_informative=2, n_features=5, flip_y = 0.1, random_state=0)"
   ]
  },
  {
   "cell_type": "code",
   "execution_count": 234,
   "metadata": {},
   "outputs": [
    {
     "data": {
      "text/html": [
       "<div>\n",
       "<style scoped>\n",
       "    .dataframe tbody tr th:only-of-type {\n",
       "        vertical-align: middle;\n",
       "    }\n",
       "\n",
       "    .dataframe tbody tr th {\n",
       "        vertical-align: top;\n",
       "    }\n",
       "\n",
       "    .dataframe thead th {\n",
       "        text-align: right;\n",
       "    }\n",
       "</style>\n",
       "<table border=\"1\" class=\"dataframe\">\n",
       "  <thead>\n",
       "    <tr style=\"text-align: right;\">\n",
       "      <th></th>\n",
       "      <th>Feature1</th>\n",
       "      <th>Feature2</th>\n",
       "      <th>Feature3</th>\n",
       "      <th>Feature4</th>\n",
       "      <th>Feature5</th>\n",
       "      <th>y</th>\n",
       "    </tr>\n",
       "  </thead>\n",
       "  <tbody>\n",
       "    <tr>\n",
       "      <th>0</th>\n",
       "      <td>-0.979565</td>\n",
       "      <td>-1.244990</td>\n",
       "      <td>0.181934</td>\n",
       "      <td>-0.130440</td>\n",
       "      <td>-0.568629</td>\n",
       "      <td>1</td>\n",
       "    </tr>\n",
       "    <tr>\n",
       "      <th>1</th>\n",
       "      <td>-1.044279</td>\n",
       "      <td>-0.168034</td>\n",
       "      <td>0.295844</td>\n",
       "      <td>-0.522619</td>\n",
       "      <td>2.262452</td>\n",
       "      <td>1</td>\n",
       "    </tr>\n",
       "    <tr>\n",
       "      <th>2</th>\n",
       "      <td>0.884519</td>\n",
       "      <td>0.328589</td>\n",
       "      <td>-0.234212</td>\n",
       "      <td>-1.446578</td>\n",
       "      <td>-1.455390</td>\n",
       "      <td>1</td>\n",
       "    </tr>\n",
       "    <tr>\n",
       "      <th>3</th>\n",
       "      <td>-0.681383</td>\n",
       "      <td>-1.156319</td>\n",
       "      <td>0.101036</td>\n",
       "      <td>-1.097497</td>\n",
       "      <td>-1.113952</td>\n",
       "      <td>0</td>\n",
       "    </tr>\n",
       "    <tr>\n",
       "      <th>4</th>\n",
       "      <td>-0.815404</td>\n",
       "      <td>0.164488</td>\n",
       "      <td>0.256994</td>\n",
       "      <td>-0.537583</td>\n",
       "      <td>2.498333</td>\n",
       "      <td>0</td>\n",
       "    </tr>\n",
       "    <tr>\n",
       "      <th>...</th>\n",
       "      <td>...</td>\n",
       "      <td>...</td>\n",
       "      <td>...</td>\n",
       "      <td>...</td>\n",
       "      <td>...</td>\n",
       "      <td>...</td>\n",
       "    </tr>\n",
       "    <tr>\n",
       "      <th>495</th>\n",
       "      <td>0.136995</td>\n",
       "      <td>-0.186848</td>\n",
       "      <td>-0.057171</td>\n",
       "      <td>0.298977</td>\n",
       "      <td>-0.813742</td>\n",
       "      <td>1</td>\n",
       "    </tr>\n",
       "    <tr>\n",
       "      <th>496</th>\n",
       "      <td>-1.041639</td>\n",
       "      <td>-1.889393</td>\n",
       "      <td>0.143757</td>\n",
       "      <td>0.033090</td>\n",
       "      <td>-2.004115</td>\n",
       "      <td>0</td>\n",
       "    </tr>\n",
       "    <tr>\n",
       "      <th>497</th>\n",
       "      <td>-0.109766</td>\n",
       "      <td>-0.197389</td>\n",
       "      <td>0.015299</td>\n",
       "      <td>-1.998639</td>\n",
       "      <td>-0.206955</td>\n",
       "      <td>0</td>\n",
       "    </tr>\n",
       "    <tr>\n",
       "      <th>498</th>\n",
       "      <td>-1.504845</td>\n",
       "      <td>-0.837039</td>\n",
       "      <td>0.374032</td>\n",
       "      <td>-0.326318</td>\n",
       "      <td>1.788107</td>\n",
       "      <td>0</td>\n",
       "    </tr>\n",
       "    <tr>\n",
       "      <th>499</th>\n",
       "      <td>-0.799336</td>\n",
       "      <td>-1.461575</td>\n",
       "      <td>0.109290</td>\n",
       "      <td>0.921408</td>\n",
       "      <td>-1.566842</td>\n",
       "      <td>0</td>\n",
       "    </tr>\n",
       "  </tbody>\n",
       "</table>\n",
       "<p>500 rows × 6 columns</p>\n",
       "</div>"
      ],
      "text/plain": [
       "     Feature1  Feature2  Feature3  Feature4  Feature5  y\n",
       "0   -0.979565 -1.244990  0.181934 -0.130440 -0.568629  1\n",
       "1   -1.044279 -0.168034  0.295844 -0.522619  2.262452  1\n",
       "2    0.884519  0.328589 -0.234212 -1.446578 -1.455390  1\n",
       "3   -0.681383 -1.156319  0.101036 -1.097497 -1.113952  0\n",
       "4   -0.815404  0.164488  0.256994 -0.537583  2.498333  0\n",
       "..        ...       ...       ...       ...       ... ..\n",
       "495  0.136995 -0.186848 -0.057171  0.298977 -0.813742  1\n",
       "496 -1.041639 -1.889393  0.143757  0.033090 -2.004115  0\n",
       "497 -0.109766 -0.197389  0.015299 -1.998639 -0.206955  0\n",
       "498 -1.504845 -0.837039  0.374032 -0.326318  1.788107  0\n",
       "499 -0.799336 -1.461575  0.109290  0.921408 -1.566842  0\n",
       "\n",
       "[500 rows x 6 columns]"
      ]
     },
     "execution_count": 234,
     "metadata": {},
     "output_type": "execute_result"
    }
   ],
   "source": [
    "X_df = pd.DataFrame(X, columns=['Feature'+str(i+1) for i in range(5)])\n",
    "X_df['y']=y\n",
    "X_df"
   ]
  },
  {
   "cell_type": "code",
   "execution_count": 218,
   "metadata": {},
   "outputs": [
    {
     "data": {
      "image/png": "[encoded data removed]",
      "text/plain": [
       "<Figure size 432x288 with 1 Axes>"
      ]
     },
     "metadata": {
      "needs_background": "light"
     },
     "output_type": "display_data"
    }
   ],
   "source": [
    "plt.scatter(X[:, 0], X[:, 1], marker='o', c=y, s=100);"
   ]
  },
  {
   "cell_type": "code",
   "execution_count": 227,
   "metadata": {},
   "outputs": [],
   "source": [
    "from bayes_opt import BayesianOptimization\n",
    "import lightgbm as lgb\n",
    "from sklearn.model_selection import cross_val_score"
   ]
  },
  {
   "cell_type": "code",
   "execution_count": 229,
   "metadata": {},
   "outputs": [],
   "source": [
    "def lgb_evaluate(numLeaves, maxDepth, scaleWeight, minChildWeight, subsample, colSam, output = 'score'):\n",
    "    reg=lgb.LGBMRegressor(num_leaves=31, max_depth= 2,scale_pos_weight= scaleWeight, min_child_weight= minChildWeight, subsample= 0.4, colsample_bytree= 0.4, learning_rate=0.05,   n_estimators=20)\n",
    "    scores = cross_val_score(reg, X_train, y_train, cv=5, scoring='roc_auc')\n",
    "    # scores = cross_val_score(reg, train_x, train_y, cv=5, scoring='neg_mean_squared_error')\n",
    " \n",
    "    if output == 'score':\n",
    "        return np.mean(scores)\n",
    "    if output == 'model':\n",
    "        return reg"
   ]
  },
  {
   "cell_type": "code",
   "execution_count": 230,
   "metadata": {},
   "outputs": [],
   "source": [
    "def bayesOpt(train_x, train_y):\n",
    "    lgbBO = BayesianOptimization(lgb_evaluate, {'numLeaves':(5, 90), 'maxDepth':(2, 90),\n",
    "                                                'scaleWeight':(1, 10000), 'minChildWeight':(0.01, 70), \n",
    "                                                'subsample': (0.4, 1), 'colSam': (0.4, 1)})\n",
    "    lgbBO.maximize(init_points=5, n_iter=30)\n",
    "    print(lgbBO.res)\n",
    "    return lgbBO"
   ]
  },
  {
   "cell_type": "code",
   "execution_count": 237,
   "metadata": {},
   "outputs": [],
   "source": [
    "from sklearn.model_selection import train_test_split\n",
    "\n",
    "X, y = np.array(X_df.drop('y',axis=1)), np.array(X_df['y'])\n",
    "X_train, X_test, y_train, y_test = train_test_split(X, y, test_size=0.2)"
   ]
  },
  {
   "cell_type": "code",
   "execution_count": 242,
   "metadata": {},
   "outputs": [
    {
     "name": "stdout",
     "output_type": "stream",
     "text": [
      "|   iter    |  target   |  colSam   | maxDepth  | minChi... | numLeaves | scaleW... | subsample |\n",
      "-------------------------------------------------------------------------------------------------\n",
      "| \u001b[0m 1       \u001b[0m | \u001b[0m 0.843   \u001b[0m | \u001b[0m 0.7551  \u001b[0m | \u001b[0m 58.87   \u001b[0m | \u001b[0m 59.02   \u001b[0m | \u001b[0m 63.62   \u001b[0m | \u001b[0m 3.688e+0\u001b[0m | \u001b[0m 0.8735  \u001b[0m |\n",
      "| \u001b[0m 2       \u001b[0m | \u001b[0m 0.8427  \u001b[0m | \u001b[0m 0.6927  \u001b[0m | \u001b[0m 26.95   \u001b[0m | \u001b[0m 16.4    \u001b[0m | \u001b[0m 11.25   \u001b[0m | \u001b[0m 8.647e+0\u001b[0m | \u001b[0m 0.9671  \u001b[0m |\n",
      "| \u001b[0m 3       \u001b[0m | \u001b[0m 0.8427  \u001b[0m | \u001b[0m 0.4417  \u001b[0m | \u001b[0m 55.88   \u001b[0m | \u001b[0m 17.33   \u001b[0m | \u001b[0m 70.62   \u001b[0m | \u001b[0m 5.818e+0\u001b[0m | \u001b[0m 0.8199  \u001b[0m |\n",
      "| \u001b[95m 4       \u001b[0m | \u001b[95m 0.8449  \u001b[0m | \u001b[95m 0.6414  \u001b[0m | \u001b[95m 45.29   \u001b[0m | \u001b[95m 44.81   \u001b[0m | \u001b[95m 33.62   \u001b[0m | \u001b[95m 745.3   \u001b[0m | \u001b[95m 0.8296  \u001b[0m |\n",
      "| \u001b[0m 5       \u001b[0m | \u001b[0m 0.8409  \u001b[0m | \u001b[0m 0.4626  \u001b[0m | \u001b[0m 89.93   \u001b[0m | \u001b[0m 66.49   \u001b[0m | \u001b[0m 89.46   \u001b[0m | \u001b[0m 4.264e+0\u001b[0m | \u001b[0m 0.4911  \u001b[0m |\n",
      "| \u001b[95m 6       \u001b[0m | \u001b[95m 0.8489  \u001b[0m | \u001b[95m 0.4503  \u001b[0m | \u001b[95m 46.98   \u001b[0m | \u001b[95m 41.94   \u001b[0m | \u001b[95m 35.88   \u001b[0m | \u001b[95m 750.5   \u001b[0m | \u001b[95m 0.5323  \u001b[0m |\n",
      "| \u001b[0m 7       \u001b[0m | \u001b[0m 0.8449  \u001b[0m | \u001b[0m 0.9561  \u001b[0m | \u001b[0m 41.97   \u001b[0m | \u001b[0m 44.53   \u001b[0m | \u001b[0m 50.26   \u001b[0m | \u001b[0m 754.9   \u001b[0m | \u001b[0m 0.9349  \u001b[0m |\n",
      "| \u001b[0m 8       \u001b[0m | \u001b[0m 0.8449  \u001b[0m | \u001b[0m 0.4569  \u001b[0m | \u001b[0m 41.56   \u001b[0m | \u001b[0m 44.58   \u001b[0m | \u001b[0m 36.62   \u001b[0m | \u001b[0m 754.0   \u001b[0m | \u001b[0m 0.6129  \u001b[0m |\n",
      "| \u001b[0m 9       \u001b[0m | \u001b[0m 0.8443  \u001b[0m | \u001b[0m 0.9615  \u001b[0m | \u001b[0m 55.23   \u001b[0m | \u001b[0m 35.8    \u001b[0m | \u001b[0m 34.68   \u001b[0m | \u001b[0m 738.6   \u001b[0m | \u001b[0m 0.9975  \u001b[0m |\n",
      "| \u001b[0m 10      \u001b[0m | \u001b[0m 0.8459  \u001b[0m | \u001b[0m 0.7989  \u001b[0m | \u001b[0m 41.8    \u001b[0m | \u001b[0m 53.42   \u001b[0m | \u001b[0m 24.65   \u001b[0m | \u001b[0m 753.8   \u001b[0m | \u001b[0m 0.5914  \u001b[0m |\n",
      "| \u001b[0m 11      \u001b[0m | \u001b[0m 0.8437  \u001b[0m | \u001b[0m 0.9833  \u001b[0m | \u001b[0m 40.56   \u001b[0m | \u001b[0m 32.7    \u001b[0m | \u001b[0m 48.52   \u001b[0m | \u001b[0m 760.4   \u001b[0m | \u001b[0m 0.6963  \u001b[0m |\n",
      "| \u001b[0m 12      \u001b[0m | \u001b[0m 0.8462  \u001b[0m | \u001b[0m 0.713   \u001b[0m | \u001b[0m 58.54   \u001b[0m | \u001b[0m 38.57   \u001b[0m | \u001b[0m 19.44   \u001b[0m | \u001b[0m 745.4   \u001b[0m | \u001b[0m 0.6027  \u001b[0m |\n",
      "| \u001b[0m 13      \u001b[0m | \u001b[0m 0.8472  \u001b[0m | \u001b[0m 0.7916  \u001b[0m | \u001b[0m 53.9    \u001b[0m | \u001b[0m 54.46   \u001b[0m | \u001b[0m 44.18   \u001b[0m | \u001b[0m 739.1   \u001b[0m | \u001b[0m 0.6712  \u001b[0m |\n",
      "| \u001b[0m 14      \u001b[0m | \u001b[0m 0.8426  \u001b[0m | \u001b[0m 0.7642  \u001b[0m | \u001b[0m 64.55   \u001b[0m | \u001b[0m 47.97   \u001b[0m | \u001b[0m 40.41   \u001b[0m | \u001b[0m 747.5   \u001b[0m | \u001b[0m 0.474   \u001b[0m |\n",
      "| \u001b[0m 15      \u001b[0m | \u001b[0m 0.8489  \u001b[0m | \u001b[0m 0.8865  \u001b[0m | \u001b[0m 57.49   \u001b[0m | \u001b[0m 41.72   \u001b[0m | \u001b[0m 21.75   \u001b[0m | \u001b[0m 744.9   \u001b[0m | \u001b[0m 0.7445  \u001b[0m |\n",
      "| \u001b[0m 16      \u001b[0m | \u001b[0m 0.8467  \u001b[0m | \u001b[0m 0.4641  \u001b[0m | \u001b[0m 75.13   \u001b[0m | \u001b[0m 49.62   \u001b[0m | \u001b[0m 21.96   \u001b[0m | \u001b[0m 751.6   \u001b[0m | \u001b[0m 0.9837  \u001b[0m |\n",
      "| \u001b[0m 17      \u001b[0m | \u001b[0m 0.8449  \u001b[0m | \u001b[0m 0.4393  \u001b[0m | \u001b[0m 55.37   \u001b[0m | \u001b[0m 44.02   \u001b[0m | \u001b[0m 38.09   \u001b[0m | \u001b[0m 755.7   \u001b[0m | \u001b[0m 0.9361  \u001b[0m |\n",
      "| \u001b[0m 18      \u001b[0m | \u001b[0m 0.8439  \u001b[0m | \u001b[0m 0.7499  \u001b[0m | \u001b[0m 58.05   \u001b[0m | \u001b[0m 56.56   \u001b[0m | \u001b[0m 49.7    \u001b[0m | \u001b[0m 743.5   \u001b[0m | \u001b[0m 0.6893  \u001b[0m |\n",
      "| \u001b[0m 19      \u001b[0m | \u001b[0m 0.843   \u001b[0m | \u001b[0m 0.836   \u001b[0m | \u001b[0m 33.08   \u001b[0m | \u001b[0m 59.2    \u001b[0m | \u001b[0m 25.11   \u001b[0m | \u001b[0m 747.1   \u001b[0m | \u001b[0m 0.5906  \u001b[0m |\n",
      "| \u001b[0m 20      \u001b[0m | \u001b[0m 0.8421  \u001b[0m | \u001b[0m 0.9665  \u001b[0m | \u001b[0m 55.81   \u001b[0m | \u001b[0m 50.04   \u001b[0m | \u001b[0m 12.68   \u001b[0m | \u001b[0m 745.8   \u001b[0m | \u001b[0m 0.5859  \u001b[0m |\n",
      "| \u001b[0m 21      \u001b[0m | \u001b[0m 0.8395  \u001b[0m | \u001b[0m 0.905   \u001b[0m | \u001b[0m 46.25   \u001b[0m | \u001b[0m 68.12   \u001b[0m | \u001b[0m 38.53   \u001b[0m | \u001b[0m 742.9   \u001b[0m | \u001b[0m 0.8445  \u001b[0m |\n",
      "| \u001b[0m 22      \u001b[0m | \u001b[0m 0.842   \u001b[0m | \u001b[0m 0.8344  \u001b[0m | \u001b[0m 57.27   \u001b[0m | \u001b[0m 63.68   \u001b[0m | \u001b[0m 48.13   \u001b[0m | \u001b[0m 732.1   \u001b[0m | \u001b[0m 0.9239  \u001b[0m |\n",
      "| \u001b[0m 23      \u001b[0m | \u001b[0m 0.8442  \u001b[0m | \u001b[0m 0.9178  \u001b[0m | \u001b[0m 50.61   \u001b[0m | \u001b[0m 57.28   \u001b[0m | \u001b[0m 44.67   \u001b[0m | \u001b[0m 742.1   \u001b[0m | \u001b[0m 0.7658  \u001b[0m |\n",
      "| \u001b[0m 24      \u001b[0m | \u001b[0m 0.8436  \u001b[0m | \u001b[0m 0.5403  \u001b[0m | \u001b[0m 52.46   \u001b[0m | \u001b[0m 55.7    \u001b[0m | \u001b[0m 43.36   \u001b[0m | \u001b[0m 736.5   \u001b[0m | \u001b[0m 0.6157  \u001b[0m |\n",
      "| \u001b[0m 25      \u001b[0m | \u001b[0m 0.8456  \u001b[0m | \u001b[0m 0.869   \u001b[0m | \u001b[0m 43.51   \u001b[0m | \u001b[0m 43.01   \u001b[0m | \u001b[0m 17.37   \u001b[0m | \u001b[0m 758.5   \u001b[0m | \u001b[0m 0.9025  \u001b[0m |\n",
      "| \u001b[0m 26      \u001b[0m | \u001b[0m 0.8439  \u001b[0m | \u001b[0m 0.5493  \u001b[0m | \u001b[0m 45.07   \u001b[0m | \u001b[0m 56.93   \u001b[0m | \u001b[0m 26.09   \u001b[0m | \u001b[0m 749.9   \u001b[0m | \u001b[0m 0.6944  \u001b[0m |\n",
      "| \u001b[0m 27      \u001b[0m | \u001b[0m 0.8432  \u001b[0m | \u001b[0m 0.9136  \u001b[0m | \u001b[0m 34.6    \u001b[0m | \u001b[0m 42.65   \u001b[0m | \u001b[0m 27.91   \u001b[0m | \u001b[0m 749.7   \u001b[0m | \u001b[0m 0.6759  \u001b[0m |\n",
      "| \u001b[0m 28      \u001b[0m | \u001b[0m 0.8425  \u001b[0m | \u001b[0m 0.8096  \u001b[0m | \u001b[0m 55.34   \u001b[0m | \u001b[0m 46.9    \u001b[0m | \u001b[0m 24.79   \u001b[0m | \u001b[0m 740.3   \u001b[0m | \u001b[0m 0.8682  \u001b[0m |\n",
      "| \u001b[0m 29      \u001b[0m | \u001b[0m 0.8439  \u001b[0m | \u001b[0m 0.7013  \u001b[0m | \u001b[0m 73.45   \u001b[0m | \u001b[0m 56.16   \u001b[0m | \u001b[0m 23.79   \u001b[0m | \u001b[0m 749.2   \u001b[0m | \u001b[0m 0.9557  \u001b[0m |\n",
      "| \u001b[0m 30      \u001b[0m | \u001b[0m 0.8432  \u001b[0m | \u001b[0m 0.7127  \u001b[0m | \u001b[0m 43.7    \u001b[0m | \u001b[0m 42.34   \u001b[0m | \u001b[0m 48.34   \u001b[0m | \u001b[0m 749.1   \u001b[0m | \u001b[0m 0.4798  \u001b[0m |\n",
      "| \u001b[0m 31      \u001b[0m | \u001b[0m 0.8467  \u001b[0m | \u001b[0m 0.9284  \u001b[0m | \u001b[0m 43.28   \u001b[0m | \u001b[0m 49.18   \u001b[0m | \u001b[0m 26.63   \u001b[0m | \u001b[0m 763.0   \u001b[0m | \u001b[0m 0.7199  \u001b[0m |\n",
      "| \u001b[0m 32      \u001b[0m | \u001b[0m 0.8459  \u001b[0m | \u001b[0m 0.7147  \u001b[0m | \u001b[0m 39.02   \u001b[0m | \u001b[0m 53.91   \u001b[0m | \u001b[0m 26.74   \u001b[0m | \u001b[0m 756.2   \u001b[0m | \u001b[0m 0.492   \u001b[0m |\n",
      "| \u001b[0m 33      \u001b[0m | \u001b[0m 0.8453  \u001b[0m | \u001b[0m 0.9607  \u001b[0m | \u001b[0m 57.79   \u001b[0m | \u001b[0m 33.28   \u001b[0m | \u001b[0m 23.43   \u001b[0m | \u001b[0m 738.9   \u001b[0m | \u001b[0m 0.9986  \u001b[0m |\n",
      "| \u001b[0m 34      \u001b[0m | \u001b[0m 0.8436  \u001b[0m | \u001b[0m 0.9159  \u001b[0m | \u001b[0m 45.67   \u001b[0m | \u001b[0m 55.26   \u001b[0m | \u001b[0m 17.96   \u001b[0m | \u001b[0m 759.4   \u001b[0m | \u001b[0m 0.8421  \u001b[0m |\n",
      "| \u001b[0m 35      \u001b[0m | \u001b[0m 0.8489  \u001b[0m | \u001b[0m 0.7509  \u001b[0m | \u001b[0m 61.82   \u001b[0m | \u001b[0m 41.13   \u001b[0m | \u001b[0m 19.79   \u001b[0m | \u001b[0m 741.2   \u001b[0m | \u001b[0m 0.6343  \u001b[0m |\n",
      "=================================================================================================\n",
      "[{'target': 0.8430011973157843, 'params': {'colSam': 0.7550996310443288, 'maxDepth': 58.873952174644145, 'minChildWeight': 59.02343577533779, 'numLeaves': 63.61759085696109, 'scaleWeight': 3687.964020565762, 'subsample': 0.8734906749943677}}, {'target': 0.8427460612832647, 'params': {'colSam': 0.6926818051085903, 'maxDepth': 26.947866077458148, 'minChildWeight': 16.396521456152808, 'numLeaves': 11.253119512007853, 'scaleWeight': 8646.855674856051, 'subsample': 0.9671022139153992}}, {'target': 0.8427460612832647, 'params': {'colSam': 0.44174847415517426, 'maxDepth': 55.87692277091689, 'minChildWeight': 17.32904867270072, 'numLeaves': 70.61523884001585, 'scaleWeight': 5818.479750199365, 'subsample': 0.8199315742618329}}, {'target': 0.8449182542541214, 'params': {'colSam': 0.6413908181023564, 'maxDepth': 45.292179076482476, 'minChildWeight': 44.806516352156464, 'numLeaves': 33.61757615690537, 'scaleWeight': 745.2913707959491, 'subsample': 0.8295547158291472}}, {'target': 0.840897544584046, 'params': {'colSam': 0.46258385483850906, 'maxDepth': 89.92988970295517, 'minChildWeight': 66.49482774291894, 'numLeaves': 89.45756649141116, 'scaleWeight': 4264.422192555419, 'subsample': 0.4910665956701897}}, {'target': 0.8488900537831563, 'params': {'colSam': 0.4503130954061274, 'maxDepth': 46.983204552033534, 'minChildWeight': 41.936593743701145, 'numLeaves': 35.878290931289094, 'scaleWeight': 750.4624715203443, 'subsample': 0.5323431921629369}}, {'target': 0.8449182542541214, 'params': {'colSam': 0.9561488306854067, 'maxDepth': 41.9736141410992, 'minChildWeight': 44.52847690890399, 'numLeaves': 50.258095227181585, 'scaleWeight': 754.8856745405094, 'subsample': 0.9349343077656465}}, {'target': 0.8449182542541214, 'params': {'colSam': 0.4568771221346382, 'maxDepth': 41.555337646808375, 'minChildWeight': 44.577730832355954, 'numLeaves': 36.623783588567626, 'scaleWeight': 754.016679215519, 'subsample': 0.6128608635147166}}, {'target': 0.8443495274203909, 'params': {'colSam': 0.9614516603587985, 'maxDepth': 55.22587649790364, 'minChildWeight': 35.795922735759184, 'numLeaves': 34.676726349194496, 'scaleWeight': 738.6078060210136, 'subsample': 0.9974579894590115}}, {'target': 0.8458744683811042, 'params': {'colSam': 0.7988677585178205, 'maxDepth': 41.8043770276037, 'minChildWeight': 53.423282177688584, 'numLeaves': 24.646263967244305, 'scaleWeight': 753.7617597454794, 'subsample': 0.5914443872632751}}, {'target': 0.8437386907095679, 'params': {'colSam': 0.9833162745580646, 'maxDepth': 40.55805320589044, 'minChildWeight': 32.695752208150495, 'numLeaves': 48.523937949271776, 'scaleWeight': 760.3605811040593, 'subsample': 0.6962667494035788}}, {'target': 0.8461560809212354, 'params': {'colSam': 0.7130302773153804, 'maxDepth': 58.537584281721266, 'minChildWeight': 38.56514557102526, 'numLeaves': 19.437427408897054, 'scaleWeight': 745.3936299078982, 'subsample': 0.6026730529036317}}, {'target': 0.8471953399510367, 'params': {'colSam': 0.7915667720110098, 'maxDepth': 53.90209132857584, 'minChildWeight': 54.459139609095054, 'numLeaves': 44.18111170388576, 'scaleWeight': 739.1175554857771, 'subsample': 0.671212766226617}}, {'target': 0.8426005361114018, 'params': {'colSam': 0.7641565658552572, 'maxDepth': 64.54532040820439, 'minChildWeight': 47.97074007417792, 'numLeaves': 40.411513920082704, 'scaleWeight': 747.4518082059786, 'subsample': 0.47401411781458486}}, {'target': 0.8488900537831563, 'params': {'colSam': 0.8865480934801186, 'maxDepth': 57.4874647440627, 'minChildWeight': 41.71682560183993, 'numLeaves': 21.74636429835525, 'scaleWeight': 744.9393924131214, 'subsample': 0.7444918751148337}}, {'target': 0.8466955551890332, 'params': {'colSam': 0.4641127732632315, 'maxDepth': 75.13358131864751, 'minChildWeight': 49.61946936634692, 'numLeaves': 21.96124304834036, 'scaleWeight': 751.6054274558497, 'subsample': 0.9837211466767097}}, {'target': 0.8449182542541214, 'params': {'colSam': 0.4393490517341385, 'maxDepth': 55.36816120707213, 'minChildWeight': 44.02085318766166, 'numLeaves': 38.092508658246615, 'scaleWeight': 755.7346125239202, 'subsample': 0.9361346302418533}}, {'target': 0.8438900395321351, 'params': {'colSam': 0.7499460969387366, 'maxDepth': 58.05348768032187, 'minChildWeight': 56.55708055133693, 'numLeaves': 49.696584103153654, 'scaleWeight': 743.5415491578475, 'subsample': 0.6892962454436606}}, {'target': 0.8430011973157843, 'params': {'colSam': 0.835980143974977, 'maxDepth': 33.07848470118509, 'minChildWeight': 59.20226269288493, 'numLeaves': 25.112557115139644, 'scaleWeight': 747.1290826494335, 'subsample': 0.59055483268796}}, {'target': 0.8421357051904856, 'params': {'colSam': 0.966486649730667, 'maxDepth': 55.80559422011263, 'minChildWeight': 50.03567487654543, 'numLeaves': 12.675539248980822, 'scaleWeight': 745.8316526977006, 'subsample': 0.5859161736145045}}, {'target': 0.8395431447596, 'params': {'colSam': 0.9049514370258129, 'maxDepth': 46.24977743863012, 'minChildWeight': 68.11512267210543, 'numLeaves': 38.52734679580056, 'scaleWeight': 742.855758842092, 'subsample': 0.8445420000141064}}, {'target': 0.8420176174935927, 'params': {'colSam': 0.8343780877453724, 'maxDepth': 57.268430854251676, 'minChildWeight': 63.68006700395237, 'numLeaves': 48.12615555467695, 'scaleWeight': 732.0810452618193, 'subsample': 0.9239445396054937}}, {'target': 0.8442258302568859, 'params': {'colSam': 0.917818108529375, 'maxDepth': 50.60986742721718, 'minChildWeight': 57.28068142034105, 'numLeaves': 44.665666523907035, 'scaleWeight': 742.1131873186753, 'subsample': 0.7657630182264923}}, {'target': 0.8436403695757898, 'params': {'colSam': 0.5402985374858655, 'maxDepth': 52.46416183724178, 'minChildWeight': 55.69984593861441, 'numLeaves': 43.361082627245395, 'scaleWeight': 736.5031492765748, 'subsample': 0.6156553658575639}}, {'target': 0.8455581948290563, 'params': {'colSam': 0.8689775960563892, 'maxDepth': 43.50655529477187, 'minChildWeight': 43.0095121804065, 'numLeaves': 17.371830739057707, 'scaleWeight': 758.5473396801799, 'subsample': 0.9025032874195474}}, {'target': 0.8438900395321351, 'params': {'colSam': 0.5492697334881038, 'maxDepth': 45.068447892871376, 'minChildWeight': 56.92515165823405, 'numLeaves': 26.092025899550798, 'scaleWeight': 749.8801991966501, 'subsample': 0.6944232185321115}}, {'target': 0.8431826977145341, 'params': {'colSam': 0.9136262958948284, 'maxDepth': 34.60127873027581, 'minChildWeight': 42.6474204600442, 'numLeaves': 27.91253361861157, 'scaleWeight': 749.7107468872543, 'subsample': 0.6759128657589693}}, {'target': 0.8425359807836884, 'params': {'colSam': 0.8095524271226298, 'maxDepth': 55.34342009590022, 'minChildWeight': 46.899437337305905, 'numLeaves': 24.794127591381493, 'scaleWeight': 740.2850333058421, 'subsample': 0.8681601435740571}}, {'target': 0.8438900395321351, 'params': {'colSam': 0.7013037627642094, 'maxDepth': 73.44551942954918, 'minChildWeight': 56.16491227426255, 'numLeaves': 23.7880213378859, 'scaleWeight': 749.2170167367784, 'subsample': 0.9557282003152395}}, {'target': 0.8431826977145341, 'params': {'colSam': 0.7126983963829094, 'maxDepth': 43.70309772052481, 'minChildWeight': 42.3421380517107, 'numLeaves': 48.34119389654284, 'scaleWeight': 749.1332198280835, 'subsample': 0.47981764651834957}}, {'target': 0.8466955551890332, 'params': {'colSam': 0.9284305655376446, 'maxDepth': 43.27970152023943, 'minChildWeight': 49.18195818732789, 'numLeaves': 26.625325899848573, 'scaleWeight': 763.041467030693, 'subsample': 0.7199309315193161}}, {'target': 0.8458744683811042, 'params': {'colSam': 0.7147207218263132, 'maxDepth': 39.024449772759446, 'minChildWeight': 53.912112451907575, 'numLeaves': 26.738285695127384, 'scaleWeight': 756.1970540451376, 'subsample': 0.4919869209646915}}, {'target': 0.8453139633067106, 'params': {'colSam': 0.9607216939390147, 'maxDepth': 57.793213463899804, 'minChildWeight': 33.276169087607606, 'numLeaves': 23.42630617278661, 'scaleWeight': 738.8745597676959, 'subsample': 0.9986062658746517}}, {'target': 0.8436403695757898, 'params': {'colSam': 0.9159200570265081, 'maxDepth': 45.67110990850298, 'minChildWeight': 55.25772531912931, 'numLeaves': 17.963905431283003, 'scaleWeight': 759.3985897083339, 'subsample': 0.8420759444307544}}, {'target': 0.8488900537831563, 'params': {'colSam': 0.750940559877141, 'maxDepth': 61.82418238640132, 'minChildWeight': 41.13194168523055, 'numLeaves': 19.78905595695179, 'scaleWeight': 741.2109812209904, 'subsample': 0.6342576119409509}}]\n"
     ]
    }
   ],
   "source": [
    "lgbBO = bayesOpt(X_train, y_train)"
   ]
  },
  {
   "cell_type": "code",
   "execution_count": 243,
   "metadata": {},
   "outputs": [
    {
     "data": {
      "text/plain": [
       "{'colSam': 0.4503130954061274,\n",
       " 'maxDepth': 46.983204552033534,\n",
       " 'minChildWeight': 41.936593743701145,\n",
       " 'numLeaves': 35.878290931289094,\n",
       " 'scaleWeight': 750.4624715203443,\n",
       " 'subsample': 0.5323431921629369}"
      ]
     },
     "execution_count": 243,
     "metadata": {},
     "output_type": "execute_result"
    }
   ],
   "source": [
    "params = lgbBO.max['params']\n",
    "params"
   ]
  },
  {
   "cell_type": "code",
   "execution_count": 244,
   "metadata": {},
   "outputs": [],
   "source": [
    "model = lgb_evaluate(\n",
    "     numLeaves = params['numLeaves'],\n",
    "     maxDepth = params['maxDepth'],\n",
    "     scaleWeight = params['maxDepth'],\n",
    "     minChildWeight = params['minChildWeight'],\n",
    "     subsample = params['subsample'],\n",
    "     colSam = params['colSam'],\n",
    "     output = 'model'\n",
    "     )"
   ]
  },
  {
   "cell_type": "code",
   "execution_count": 248,
   "metadata": {},
   "outputs": [
    {
     "data": {
      "text/plain": [
       "LGBMRegressor(colsample_bytree=0.4, learning_rate=0.05, max_depth=2,\n",
       "              min_child_weight=41.936593743701145, n_estimators=20,\n",
       "              scale_pos_weight=46.983204552033534, subsample=0.4)"
      ]
     },
     "execution_count": 248,
     "metadata": {},
     "output_type": "execute_result"
    }
   ],
   "source": [
    "model.fit(X_train, y_train)"
   ]
  },
  {
   "cell_type": "code",
   "execution_count": null,
   "metadata": {},
   "outputs": [],
   "source": []
  }
 ],
 "metadata": {
  "kernelspec": {
   "display_name": "Python 3",
   "language": "python",
   "name": "python3"
  },
  "language_info": {
   "codemirror_mode": {
    "name": "ipython",
    "version": 3
   },
   "file_extension": ".py",
   "mimetype": "text/x-python",
   "name": "python",
   "nbconvert_exporter": "python",
   "pygments_lexer": "ipython3",
   "version": "3.8.5"
  }
 },
 "nbformat": 4,
 "nbformat_minor": 4
}
