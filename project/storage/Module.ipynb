{
 "cells": [
  {
   "cell_type": "markdown",
   "id": "663a9d5a",
   "metadata": {},
   "source": [
    "# Visualization"
   ]
  },
  {
   "cell_type": "code",
   "execution_count": null,
   "id": "8761c171",
   "metadata": {},
   "outputs": [],
   "source": [
    "!pip install matplotlib"
   ]
  },
  {
   "cell_type": "code",
   "execution_count": null,
   "id": "31939d39",
   "metadata": {},
   "outputs": [],
   "source": [
    "!pip install pyecharts==0.5.11"
   ]
  },
  {
   "cell_type": "code",
   "execution_count": null,
   "id": "561502e9",
   "metadata": {},
   "outputs": [],
   "source": [
    "!pip install pyecharts_snapshot"
   ]
  },
  {
   "cell_type": "code",
   "execution_count": null,
   "id": "ccdcfe2e",
   "metadata": {},
   "outputs": [],
   "source": [
    "!pip install plotly"
   ]
  },
  {
   "cell_type": "code",
   "execution_count": null,
   "id": "d44ae07d",
   "metadata": {},
   "outputs": [],
   "source": [
    "!pip install networkx"
   ]
  },
  {
   "cell_type": "code",
   "execution_count": null,
   "id": "6aa64934",
   "metadata": {},
   "outputs": [],
   "source": [
    "!pip install missingno"
   ]
  },
  {
   "cell_type": "code",
   "execution_count": null,
   "id": "90b3805a",
   "metadata": {},
   "outputs": [],
   "source": [
    "!pip install bokeh\n",
    "output_notebook()"
   ]
  },
  {
   "cell_type": "code",
   "execution_count": null,
   "id": "9deb4e9e",
   "metadata": {},
   "outputs": [],
   "source": [
    "!pip install altair"
   ]
  },
  {
   "cell_type": "code",
   "execution_count": null,
   "id": "942c6189",
   "metadata": {},
   "outputs": [],
   "source": [
    "!pip install colorcet"
   ]
  },
  {
   "cell_type": "code",
   "execution_count": null,
   "id": "b535e03a",
   "metadata": {},
   "outputs": [],
   "source": [
    "!pip install calplot"
   ]
  },
  {
   "cell_type": "code",
   "execution_count": null,
   "id": "5f5c7127",
   "metadata": {},
   "outputs": [],
   "source": [
    "!pip install folium"
   ]
  },
  {
   "cell_type": "markdown",
   "id": "c1690dd4",
   "metadata": {},
   "source": [
    "# Modeling"
   ]
  },
  {
   "cell_type": "code",
   "execution_count": null,
   "id": "7554678d",
   "metadata": {},
   "outputs": [],
   "source": [
    "!pip install lightgbm"
   ]
  },
  {
   "cell_type": "code",
   "execution_count": null,
   "id": "67f48f2e",
   "metadata": {},
   "outputs": [],
   "source": [
    "conda install -c anaconda ephem --yes"
   ]
  },
  {
   "cell_type": "code",
   "execution_count": null,
   "id": "1d292887",
   "metadata": {},
   "outputs": [],
   "source": [
    "conda install -c conda-forge pystan"
   ]
  },
  {
   "cell_type": "code",
   "execution_count": null,
   "id": "3c7a3e4f",
   "metadata": {},
   "outputs": [],
   "source": [
    "conda install -c conda-forge fbprophet"
   ]
  },
  {
   "cell_type": "markdown",
   "id": "09213106",
   "metadata": {},
   "source": [
    "# 기타"
   ]
  },
  {
   "cell_type": "code",
   "execution_count": null,
   "id": "9df4e49b",
   "metadata": {},
   "outputs": [],
   "source": [
    "!pip install PyWavelets"
   ]
  },
  {
   "cell_type": "code",
   "execution_count": null,
   "id": "53ba609c",
   "metadata": {},
   "outputs": [],
   "source": [
    "!pip install statsmodels"
   ]
  },
  {
   "cell_type": "markdown",
   "id": "f9c4b6df",
   "metadata": {},
   "source": [
    "$ conda install -c conda-forge ipywidgets"
   ]
  },
  {
   "cell_type": "markdown",
   "id": "53405555",
   "metadata": {},
   "source": [
    "$ jupyter nbextension enable --py widgetsnbextension"
   ]
  }
 ],
 "metadata": {
  "kernelspec": {
   "display_name": "Python 3",
   "language": "python",
   "name": "python3"
  },
  "language_info": {
   "codemirror_mode": {
    "name": "ipython",
    "version": 3
   },
   "file_extension": ".py",
   "mimetype": "text/x-python",
   "name": "python",
   "nbconvert_exporter": "python",
   "pygments_lexer": "ipython3",
   "version": "3.8.5"
  }
 },
 "nbformat": 4,
 "nbformat_minor": 5
}
