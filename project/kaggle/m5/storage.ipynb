{
 "cells": [
  {
   "cell_type": "code",
   "execution_count": null,
   "id": "652ef393",
   "metadata": {},
   "outputs": [],
   "source": [
    "import statsmodels\n",
    "import statsmodels.api as sm\n",
    "from statsmodels.tsa.arima_model import ARIMA\n",
    "from statsmodels.tsa.api import ExponentialSmoothing, SimpleExpSmoothing, Holt"
   ]
  },
  {
   "cell_type": "code",
   "execution_count": null,
   "id": "d7e963a5",
   "metadata": {},
   "outputs": [],
   "source": [
    "hobbies_1_index = [c for c in past_sales.columns if 'HOBBIES_1' in c]\n",
    "hobbies_2_index = [c for c in past_sales.columns if 'HOBBIES_2' in c]\n",
    "household_1_index = [c for c in past_sales.columns if 'HOUSEHOLD_1' in c]\n",
    "household_2_index = [c for c in past_sales.columns if 'HOUSEHOLD_2' in c]\n",
    "food_1_index = [c for c in past_sales.columns if 'FOOD_1' in c]\n",
    "food_2_index = [c for c in past_sales.columns if 'FOOD_2' in c]\n",
    "food_3_index = [c for c in past_sales.columns if 'FOOD_3' in c]"
   ]
  },
  {
   "cell_type": "code",
   "execution_count": null,
   "id": "213904e7",
   "metadata": {},
   "outputs": [],
   "source": [
    "CA_index = [c for c in past_sales.columns if 'CA' in c]\n",
    "TX_index = [c for c in past_sales.columns if 'TX' in c]\n",
    "WI_index = [c for c in past_sales.columns if 'WI' in c]\n",
    "CA_1_index = [c for c in past_sales.columns if 'CA_1' in c]\n",
    "CA_2_index = [c for c in past_sales.columns if 'CA_2' in c]\n",
    "CA_3_index = [c for c in past_sales.columns if 'CA_3' in c]\n",
    "CA_4_index = [c for c in past_sales.columns if 'CA_4' in c]\n",
    "TX_1_index = [c for c in past_sales.columns if 'TX_1' in c]\n",
    "TX_2_index = [c for c in past_sales.columns if 'TX_2' in c]\n",
    "TX_3_index = [c for c in past_sales.columns if 'TX_3' in c]\n",
    "WI_1_index = [c for c in past_sales.columns if 'WI_1' in c]\n",
    "WI_2_index = [c for c in past_sales.columns if 'WI_2' in c]\n",
    "WI_3_index = [c for c in past_sales.columns if 'WI_3' in c]"
   ]
  },
  {
   "cell_type": "code",
   "execution_count": null,
   "id": "7b948491",
   "metadata": {},
   "outputs": [],
   "source": [
    "I tried to see all 1913 dates, but the number of data was too large, so I randomly selected 100 days and visualized them.<br>\n",
    "1913개의 날짜를 다 보려고 하니 데이터의 수가 너무 많으므로, 임의로 100일을 골라 시각화하였습니다."
   ]
  },
  {
   "cell_type": "code",
   "execution_count": null,
   "id": "f36c197a",
   "metadata": {},
   "outputs": [],
   "source": [
    "ids = sorted(list(set(sales_train_val['id'])))\n",
    "d_cols = [c for c in sales_train_val.columns if 'd_' in c]\n",
    "x_1 = sales_train_val.loc[sales_train_val['id']==ids[5000]].set_index('id')[d_cols].values[0][1500:1600]\n",
    "x_2 = sales_train_val.loc[sales_train_val['id']==ids[15000]].set_index('id')[d_cols].values[0][800:900]\n",
    "x_3 = sales_train_val.loc[sales_train_val['id']==ids[25000]].set_index('id')[d_cols].values[0][1500:1600]\n",
    "\n",
    "fig = make_subplots(rows=3, cols=1)\n",
    "\n",
    "fig.add_trace(go.Scatter(x=np.arange(len(x_1))+1500, y=x_1, showlegend=False,\n",
    "                        mode='lines+markers', name='First Sample', marker=dict(color='chartreuse')),\n",
    "             row=1, col=1)\n",
    "\n",
    "fig.add_trace(go.Scatter(x=np.arange(len(x_2))+800, y=x_2, showlegend=False,\n",
    "                        mode='lines+markers', name='Second Sample', marker=dict(color='violet')),\n",
    "             row=2, col=1)\n",
    "\n",
    "fig.add_trace(go.Scatter(x=np.arange(len(x_3))+1600, y=x_3, showlegend=False,\n",
    "                        mode='lines+markers', name='Third Sample', line=dict(color='yellow')),\n",
    "             row=3, col=1)\n",
    "\n",
    "fig.update_layout(height=1200, width=800, title_text='Sample sales snippets', template='plotly_dark')\n",
    "fig.show()"
   ]
  },
  {
   "cell_type": "markdown",
   "id": "385b4d70",
   "metadata": {},
   "source": [
    "### 2.3 Denoising\n",
    "As we mentioned earlier, we can check that the sales data is very fluctuating and volatile. Sometimes, the sales are zero for a few days in a row, and at other times, it remains at its peak value for a few days. Therefore, we need some sort of \"denoising\" techniques to find the underlying trends in the sales data and make forecasts."
   ]
  },
  {
   "cell_type": "code",
   "execution_count": null,
   "id": "ad672a94",
   "metadata": {},
   "outputs": [],
   "source": [
    "def maddest(d, axis=None):\n",
    "    return np.mean(np.absolute(d - np.mean(d, axis)), axis)\n",
    "\n",
    "def denoise_signal(x, wavelet='db4', level=1):\n",
    "    coeff = pywt.wavedec(x, wavelet, mode=\"per\")\n",
    "    sigma = (1/0.6745) * maddest(coeff[-level])\n",
    "\n",
    "    uthresh = sigma * np.sqrt(2*np.log(len(x)))\n",
    "    coeff[1:] = (pywt.threshold(i, value=uthresh, mode='hard') for i in coeff[1:])\n",
    "\n",
    "    return pywt.waverec(coeff, wavelet, mode='per')"
   ]
  },
  {
   "cell_type": "code",
   "execution_count": null,
   "id": "125a6008",
   "metadata": {},
   "outputs": [],
   "source": [
    "y_w1 = denoise_signal(x_1)\n",
    "y_w2 = denoise_signal(x_2)\n",
    "y_w3 = denoise_signal(x_3)\n",
    "\n",
    "\n",
    "fig = make_subplots(rows=3, cols=1)\n",
    "\n",
    "fig.add_trace(go.Scatter(x=np.arange(len(x_1)), y=x_1, showlegend=False, mode='lines+markers',\n",
    "                        name='Original Signal', marker=dict(color='chartreuse')),\n",
    "             row=1, col=1)\n",
    "fig.add_trace(go.Scatter(x=np.arange(len(x_1)), y=y_w1, showlegend=False, mode='lines',\n",
    "                        name='Denoised Signal', marker=dict(color='cornsilk')),\n",
    "             row=1, col=1)\n",
    "\n",
    "fig.add_trace(go.Scatter(x=np.arange(len(x_2)), y=x_2, showlegend=False, mode='lines+markers',\n",
    "                        name='Original Signal', marker=dict(color='violet')),\n",
    "             row=2, col=1)\n",
    "fig.add_trace(go.Scatter(x=np.arange(len(x_2)), y=y_w2, showlegend=False, mode='lines',\n",
    "                        name='Denoised Signal', marker=dict(color='cornsilk')),\n",
    "             row=2, col=1)\n",
    "\n",
    "fig.add_trace(go.Scatter(x=np.arange(len(x_2)), y=x_2, showlegend=False, mode='lines+markers',\n",
    "                        name='Original Signal', marker=dict(color='lightskyblue')),\n",
    "             row=3, col=1)\n",
    "fig.add_trace(go.Scatter(x=np.arange(len(x_2)), y=y_w2, showlegend=False, mode='lines',\n",
    "                        name='Denoised Signal', marker=dict(color='cornsilk')),\n",
    "             row=3, col=1)\n",
    "\n",
    "fig.update_layout(height=1200, width=800, \n",
    "                  title_text=\"Original(Pale) sales vs. Denoised(Dark) sales\", template='plotly_dark')\n",
    "fig.show()"
   ]
  },
  {
   "cell_type": "code",
   "execution_count": null,
   "id": "af4774ba",
   "metadata": {},
   "outputs": [],
   "source": [
    "fig, ax = plt.subplots(nrows=3, ncols=2, figsize=(30, 20))\n",
    "\n",
    "ax[0, 0].plot(x_1, color='chartreuse', marker='o')\n",
    "ax[0, 0].set_title('Original Sales', fontsize=30)\n",
    "ax[0, 1].plot(y_w1, color='cyan', marker='.')\n",
    "ax[0, 1].set_title('After Wavelet Denoising', fontsize=30)\n",
    "\n",
    "ax[1, 0].plot(x_2, color='chartreuse', marker='o')\n",
    "ax[1, 0].set_title('Original Sales', fontsize=30)\n",
    "ax[1, 1].plot(y_w2, color='cyan', marker='.')\n",
    "ax[1, 1].set_title('After Wavelet Denoising', fontsize=30)\n",
    "\n",
    "ax[2, 0].plot(x_3, color='chartreuse', marker='o')\n",
    "ax[2, 0].set_title('Original Sales', fontsize=30)\n",
    "ax[2, 1].plot(y_w3, color='cyan', marker='.')\n",
    "ax[2, 1].set_title('After Wavelet Denoising', fontsize=30)\n",
    "\n",
    "plt.show()"
   ]
  },
  {
   "cell_type": "markdown",
   "id": "f7dd6b84",
   "metadata": {},
   "source": [
    "### 2.4 Average Smoothing\n",
    "Average smooting is a relatively simple way to denoise time series data. In this method, we take a \"window\" with a fixed size. We first place the window at the beginning of the time series (first ten elements) and calculate the mean of that section. We now move the window across the time series in the forward direction by a particular \"stride\", calculate the mean of the new window and repeat the process, until we reach the end of the time series. All the mean values we calculated are then concatenated into a new time series, which forms the denoised sales data."
   ]
  },
  {
   "cell_type": "code",
   "execution_count": null,
   "id": "bd982fe4",
   "metadata": {},
   "outputs": [],
   "source": [
    "def average_smoothing(signal, kernel_size=3, stride=1):\n",
    "    sample = []\n",
    "    start = 0\n",
    "    end = kernel_size\n",
    "    while end <= len(signal):\n",
    "        start += stride\n",
    "        end += stride\n",
    "        sample.extend(np.ones(end - start)*np.mean(signal[start:end]))\n",
    "    return np.array(sample)"
   ]
  },
  {
   "cell_type": "code",
   "execution_count": null,
   "id": "84cc6872",
   "metadata": {},
   "outputs": [],
   "source": [
    "y_a1 = average_smoothing(x_1)\n",
    "y_a2 = average_smoothing(x_2)\n",
    "y_a3 = average_smoothing(x_3)\n",
    "\n",
    "fig, ax = plt.subplots(nrows=3, ncols=2, figsize=(30, 20))\n",
    "\n",
    "ax[0, 0].plot(x_1, color='chartreuse', marker='o')\n",
    "ax[0, 0].set_title('Original Sales', fontsize=30)\n",
    "ax[0, 1].plot(y_a1, color='cyan', marker='.')\n",
    "ax[0, 1].set_title('After Wavelet Denoising', fontsize=30)\n",
    "\n",
    "ax[1, 0].plot(x_2, color='chartreuse', marker='o')\n",
    "ax[1, 0].set_title('Original Sales', fontsize=30)\n",
    "ax[1, 1].plot(y_a2, color='cyan', marker='.')\n",
    "ax[1, 1].set_title('After Wavelet Denoising', fontsize=30)\n",
    "\n",
    "ax[2, 0].plot(x_3, color='chartreuse', marker='o')\n",
    "ax[2, 0].set_title('Original Sales', fontsize=30)\n",
    "ax[2, 1].plot(y_a3, color='cyan', marker='.')\n",
    "ax[2, 1].set_title('After Wavelet Denoising', fontsize=30)\n",
    "\n",
    "plt.show()"
   ]
  }
 ],
 "metadata": {
  "kernelspec": {
   "display_name": "Python 3",
   "language": "python",
   "name": "python3"
  },
  "language_info": {
   "codemirror_mode": {
    "name": "ipython",
    "version": 3
   },
   "file_extension": ".py",
   "mimetype": "text/x-python",
   "name": "python",
   "nbconvert_exporter": "python",
   "pygments_lexer": "ipython3",
   "version": "3.8.5"
  }
 },
 "nbformat": 4,
 "nbformat_minor": 5
}
